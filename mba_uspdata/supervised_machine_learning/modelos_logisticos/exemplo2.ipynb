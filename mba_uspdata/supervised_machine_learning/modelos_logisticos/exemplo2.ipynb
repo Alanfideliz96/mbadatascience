{
 "cells": [
  {
   "cell_type": "code",
   "execution_count": 1,
   "metadata": {},
   "outputs": [
    {
     "ename": "ModuleNotFoundError",
     "evalue": "No module named 'pandas'",
     "output_type": "error",
     "traceback": [
      "\u001b[1;31m---------------------------------------------------------------------------\u001b[0m",
      "\u001b[1;31mModuleNotFoundError\u001b[0m                       Traceback (most recent call last)",
      "Cell \u001b[1;32mIn[1], line 3\u001b[0m\n\u001b[0;32m      1\u001b[0m \u001b[38;5;66;03m# Importação das bibliotecas\u001b[39;00m\n\u001b[1;32m----> 3\u001b[0m \u001b[38;5;28;01mimport\u001b[39;00m \u001b[38;5;21;01mpandas\u001b[39;00m \u001b[38;5;28;01mas\u001b[39;00m \u001b[38;5;21;01mpd\u001b[39;00m \u001b[38;5;66;03m# manipulação de dados em formato de dataframe\u001b[39;00m\n\u001b[0;32m      4\u001b[0m \u001b[38;5;28;01mimport\u001b[39;00m \u001b[38;5;21;01mnumpy\u001b[39;00m \u001b[38;5;28;01mas\u001b[39;00m \u001b[38;5;21;01mnp\u001b[39;00m \u001b[38;5;66;03m# operações matematicas\u001b[39;00m\n\u001b[0;32m      5\u001b[0m \u001b[38;5;28;01mimport\u001b[39;00m \u001b[38;5;21;01mseaborn\u001b[39;00m \u001b[38;5;28;01mas\u001b[39;00m \u001b[38;5;21;01msns\u001b[39;00m \u001b[38;5;66;03m# visualização gráfica\u001b[39;00m\n",
      "\u001b[1;31mModuleNotFoundError\u001b[0m: No module named 'pandas'"
     ]
    }
   ],
   "source": [
    "# Importação das bibliotecas\n",
    "\n",
    "import pandas as pd # manipulação de dados em formato de dataframe\n",
    "import numpy as np # operações matematicas\n",
    "import seaborn as sns # visualização gráfica\n",
    "import matplotlib.pyplot as plt # visualização gráfica\n",
    "from scipy.interpolate import UnivariateSpline # curva sigmoide suavizada\n",
    "import statsmodels.api as sm # estimação de modelos\n",
    "import statsmodels.formula.api as smf # estimação do modelo logistico binario\n",
    "from statstests.process import stepwise # procedimento Stepwise\n",
    "from scipy import stats # estatistica chi2\n",
    "import plotly.graph_objects as go # gráfico 3D\n",
    "from statsmodels.iolib.summary2 import summary_col # comparação entre modelos\n",
    "from statsmodels.discrete.discrete_model import MNLogit # estimação do modelo\n",
    "from math import exp\n",
    "\n",
    "#logistico multinomial\n",
    "import warnings\n",
    "warnings.filterwarnings('ignore')"
   ]
  },
  {
   "cell_type": "code",
   "execution_count": null,
   "metadata": {},
   "outputs": [],
   "source": [
    "df_challenger = pd.read_csv('challenger.csv',delimiter=',')\n",
    "df_challenger\n",
    "\n",
    "# Características das variáveis do dataset\n",
    "df_challenger.info()\n",
    "\n",
    "# Estatísticas univariadas\n",
    "df_challenger.describe()\n",
    "\n",
    "# desgaste: quantidade de vezes em que ocorreu stress térmico\n",
    "# temperatura: temperatura de lançamento (graus ºF)\n",
    "# pressão: pressão de verificação de vazamento (psi: libra-força por\n",
    "    #polegada ao quadrado)\n",
    "# t: teste para o lançamento (id)"
   ]
  },
  {
   "cell_type": "code",
   "execution_count": null,
   "metadata": {},
   "outputs": [],
   "source": [
    "# In[2.1]: Criação da variável dependente binária 'falha'\n",
    "\n",
    "# Não há uma variável binária para servir como uma variável dependente, certo?\n",
    "# Então vamos criá-la, considerando a ocorrência de desgastes de peças como a\n",
    "#ocorrência de um evento que chamaremos de 'falha':\n",
    "\n",
    "df_challenger.loc[df_challenger['desgaste'] != 0 , 'falha'] = 1\n",
    "df_challenger.loc[df_challenger['desgaste'] == 0, 'falha'] = 0\n",
    "\n",
    "# Transformando a variável 'falha' para o tipo 'int' (poderia também deixar\n",
    "#como 'float'), a fim de que seja possível estimar o modelo por meio da\n",
    "#função 'sm.Logit.from_formula'\n",
    "\n",
    "df_challenger.info()\n",
    "\n",
    "df_challenger['falha'] = df_challenger['falha'].astype('int64')\n",
    "\n",
    "df_challenger.info()\n",
    "\n",
    "df_challenger"
   ]
  },
  {
   "cell_type": "code",
   "execution_count": null,
   "metadata": {},
   "outputs": [],
   "source": [
    "#In[2.2]: Gráfico 'pairplot' com scatters e KDEs por 'falha'\n",
    "\n",
    "cores_desejadas = {0: 'springgreen', 1: 'magenta'}\n",
    "\n",
    "g = sns.pairplot(df_challenger[['falha','temperatura','pressão']], hue='falha',\n",
    "                 palette=cores_desejadas)\n",
    "g.fig.set_size_inches(8, 6)\n",
    "plt.show()"
   ]
  },
  {
   "cell_type": "code",
   "execution_count": null,
   "metadata": {},
   "outputs": [],
   "source": [
    "# In[2.3]: Estimação do modelo logístico binário pela função 'sm.Logit.from_formula'\n",
    "#('statsmodels.api')\n",
    "\n",
    "# O modelo a seguir também pode ser estimado por meio da função 'smf.glm'\n",
    "#('statsmodels.formula.api')\n",
    "\n",
    "modelo_challenger = sm.Logit.from_formula('falha ~ temperatura + pressão',\n",
    "                                          df_challenger).fit()\n",
    "\n",
    "# Parâmetros do 'modelo_challenger'\n",
    "modelo_challenger.summary()"
   ]
  },
  {
   "cell_type": "code",
   "execution_count": null,
   "metadata": {},
   "outputs": [],
   "source": [
    "# In[2.4]: Procedimento Stepwise\n",
    "\n",
    "# Carregamento da função 'stepwise' do pacote 'statstests.process'\n",
    "# Autores do pacote: Luiz Paulo Fávero e Helder Prado Santos\n",
    "# https://stats-tests.github.io/statstests/\n",
    "\n",
    "from statstests.process import stepwise\n",
    "\n",
    "# Estimação do modelo por meio do procedimento Stepwise\n",
    "step_challenger = stepwise(modelo_challenger, pvalue_limit=0.05)"
   ]
  },
  {
   "cell_type": "code",
   "execution_count": null,
   "metadata": {},
   "outputs": [],
   "source": [
    "# In[2.5]: Fazendo predições para o modelo 'step_challenger'\n",
    "\n",
    "# Exemplo 1: qual a probabilidade média de falha a 70ºF (~21.11ºC)?\n",
    "step_challenger.predict(pd.DataFrame({'temperatura':[70]}))\n",
    "\n",
    "# Exemplo 2: qual a probabilidade média de falha a 77ºF (25ºC)?\n",
    "step_challenger.predict(pd.DataFrame({'temperatura':[77]}))\n",
    "\n",
    "# Exemplo 3: qual a probabilidade média de falha a 34ºF (~1.11ºC)?\n",
    "# Temperatura no momento do lançamento\n",
    "step_challenger.predict(pd.DataFrame({'temperatura':[34]}))"
   ]
  },
  {
   "cell_type": "code",
   "execution_count": null,
   "metadata": {},
   "outputs": [],
   "source": [
    "# In[2.6]: Atribuindo uma coluna no dataframe para os resultados\n",
    "\n",
    "df_challenger['phat'] = step_challenger.predict()\n",
    "\n",
    "df_challenger"
   ]
  },
  {
   "cell_type": "code",
   "execution_count": null,
   "metadata": {},
   "outputs": [],
   "source": [
    "# In[2.7]: Construção da sigmoide\n",
    "# Probabilidade de evento em função da variável 'temperatura'    \n",
    "\n",
    "plt.figure(figsize=(15,10))\n",
    "sns.scatterplot(x=df_challenger['temperatura'][df_challenger['falha'] == 0],\n",
    "                y=df_challenger['falha'][df_challenger['falha'] == 0],\n",
    "                color='springgreen', alpha=0.7, s=250, label='Falha = 0')\n",
    "sns.scatterplot(x=df_challenger['temperatura'][df_challenger['falha'] == 1],\n",
    "                y=df_challenger['falha'][df_challenger['falha'] == 1],\n",
    "                color='magenta', alpha=0.7, s=250, label='Falha = 1')\n",
    "sns.regplot(x=df_challenger['temperatura'], y=df_challenger['falha'],\n",
    "            logistic=True, ci=None, scatter=False,\n",
    "            line_kws={'color': 'indigo', 'linewidth': 7})\n",
    "plt.axhline(y = 0.5, color = 'grey', linestyle = ':')\n",
    "plt.xlabel('Temperatura em ºF', fontsize=20)\n",
    "plt.ylabel('Probabilidade de Falha', fontsize=20)\n",
    "plt.xticks(np.arange(df_challenger['temperatura'].min(),\n",
    "                     df_challenger['temperatura'].max() + 0.01, 3),\n",
    "           fontsize=14)\n",
    "plt.yticks(np.arange(0, 1.1, 0.2), fontsize=14)\n",
    "plt.legend(fontsize=20, loc='center right')\n",
    "plt.show()"
   ]
  },
  {
   "cell_type": "code",
   "execution_count": null,
   "metadata": {},
   "outputs": [],
   "source": [
    "# In[2.8]: Nossa homenagem aos astronautas\n",
    "\n",
    "from PIL import Image\n",
    "import requests\n",
    "from io import BytesIO\n",
    "\n",
    "url = \"https://img.ibxk.com.br///2016/01/29/29182307148581.jpg?w=1200&h=675&mode=crop&scale=both\"\n",
    "response = requests.get(url)\n",
    "img = Image.open(BytesIO(response.content))\n",
    "img.show()"
   ]
  }
 ],
 "metadata": {
  "kernelspec": {
   "display_name": "mba_uspdata",
   "language": "python",
   "name": "python3"
  },
  "language_info": {
   "codemirror_mode": {
    "name": "ipython",
    "version": 3
   },
   "file_extension": ".py",
   "mimetype": "text/x-python",
   "name": "python",
   "nbconvert_exporter": "python",
   "pygments_lexer": "ipython3",
   "version": "3.12.6"
  }
 },
 "nbformat": 4,
 "nbformat_minor": 2
}
